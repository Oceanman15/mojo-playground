{
  "nbformat": 4,
  "nbformat_minor": 0,
  "metadata": {
    "colab": {
      "provenance": [],
      "gpuType": "T4",
      "include_colab_link": true
    },
    "kernelspec": {
      "name": "python3",
      "display_name": "Python 3"
    },
    "language_info": {
      "name": "python"
    }
  },
  "cells": [
    {
      "cell_type": "markdown",
      "metadata": {
        "id": "view-in-github",
        "colab_type": "text"
      },
      "source": [
        "<a href=\"https://colab.research.google.com/github/Oceanman15/mojo-playground/blob/main/Modular_Mojo_Colab_Example.ipynb\" target=\"_parent\"><img src=\"https://colab.research.google.com/assets/colab-badge.svg\" alt=\"Open In Colab\"/></a>"
      ]
    },
    {
      "cell_type": "code",
      "execution_count": 1,
      "metadata": {
        "colab": {
          "base_uri": "https://localhost:8080/"
        },
        "id": "mW3RAknQju33",
        "outputId": "bfc659ae-0e73-4070-e581-c2a8ca5905bc"
      },
      "outputs": [
        {
          "output_type": "stream",
          "name": "stdout",
          "text": [
            "Looking in indexes: https://dl.modular.com/public/nightly/python/simple/\n",
            "Collecting max\n",
            "  Downloading https://dl.modular.com/public/nightly/python/max-25.4.0-py3-none-manylinux_2_34_x86_64.whl (285.0 MB)\n",
            "\u001b[2K     \u001b[90m━━━━━━━━━━━━━━━━━━━━━━━━━━━━━━━━━━━━━━━\u001b[0m \u001b[32m285.0/285.0 MB\u001b[0m \u001b[31m4.4 MB/s\u001b[0m eta \u001b[36m0:00:00\u001b[0m\n",
            "\u001b[?25hRequirement already satisfied: click>=8.0.0 in /usr/local/lib/python3.11/dist-packages (from max) (8.2.1)\n",
            "Requirement already satisfied: numpy>=1.18 in /usr/local/lib/python3.11/dist-packages (from max) (2.0.2)\n",
            "Requirement already satisfied: tqdm>=4.67.1 in /usr/local/lib/python3.11/dist-packages (from max) (4.67.1)\n",
            "Installing collected packages: max\n",
            "Successfully installed max-25.4.0\n"
          ]
        }
      ],
      "source": [
        "!pip install max --index-url https://dl.modular.com/public/nightly/python/simple/"
      ]
    },
    {
      "cell_type": "markdown",
      "source": [
        "This import allows Mojo code to be built and run via a notebook cell:"
      ],
      "metadata": {
        "id": "kSon-ccFRfQA"
      }
    },
    {
      "cell_type": "code",
      "source": [
        "import max.support.notebook"
      ],
      "metadata": {
        "id": "hOk1qqvmj9Qs"
      },
      "execution_count": 2,
      "outputs": []
    },
    {
      "cell_type": "markdown",
      "source": [
        "The following is the basic Mojo GPU vector addition example, and will run on a GPU-enabled Colab session. This should work for the T4, L4, and A100 instances on Colab."
      ],
      "metadata": {
        "id": "Ql1UqqBfSIkX"
      }
    },
    {
      "cell_type": "code",
      "source": [
        "%%mojo\n",
        "from gpu import thread_idx, block_idx, warp\n",
        "from gpu.host import DeviceContext\n",
        "from layout import Layout, LayoutTensor\n",
        "from math import iota\n",
        "\n",
        "# aliases for dtype, blocks and threads per block:\n",
        "alias dtype = DType.float32\n",
        "alias threads = 4\n",
        "alias blocks = 8\n",
        "alias element_in = blocks * threads\n",
        "\n",
        "def main():\n",
        "    var ctx = DeviceContext()\n",
        "\n",
        "    # initialise input and output buffers\n",
        "    var in_buffer = ctx.enqueue_create_buffer[dtype](element_in)\n",
        "    var out_buffer = ctx.enqueue_create_buffer[dtype](blocks)\n",
        "\n",
        "    # set input and output buffers to right values\n",
        "    with in_buffer.map_to_host() as bufferio:\n",
        "        iota(bufferio.unsafe_ptr(), element_in)\n",
        "\n",
        "    var _ = out_buffer.enqueue_fill(0)\n",
        "\n",
        "    # layoutTensor creation\n",
        "    # input\n",
        "    alias layout = Layout.row_major(blocks, threads)\n",
        "    # essential to create InTensor type which can be registered by the kernel\n",
        "    # later\n",
        "    alias InTensor = LayoutTensor[dtype, layout, MutableAnyOrigin]\n",
        "    var in_tensor = InTensor(in_buffer)\n",
        "\n",
        "    alias out_layout = Layout.row_major(blocks)\n",
        "    # essential to create OutTensor type which can be registered by the kernel\n",
        "    # later\n",
        "    alias OutTensor = LayoutTensor[dtype, out_layout, MutableAnyOrigin]\n",
        "    var out_tensor = OutTensor(out_buffer)\n",
        "    # kernel with input and output layouttensors as arguments\n",
        "    # lesson learnt, you need to create the correct tensor type for your kernel\n",
        "    # with alias as well. That is why the mojo example has the extra alias for\n",
        "    # In_tensor and Out_tensor.\n",
        "    fn reduce_sum(in_tensor: InTensor, out_tensor: OutTensor):\n",
        "        var value = in_tensor.load[1](block_idx.x, thread_idx.x)\n",
        "        value = warp.sum(value)\n",
        "        if thread_idx.x == 0:\n",
        "            out_tensor[block_idx.x] = value\n",
        "\n",
        "\n",
        "    ctx.enqueue_function[reduce_sum](\n",
        "        in_tensor,\n",
        "        out_tensor,\n",
        "        grid_dim=blocks,\n",
        "        block_dim=threads,\n",
        "    )\n",
        "\n",
        "    with out_buffer.map_to_host() as host_buffer:\n",
        "        print(host_buffer)\n",
        "\n"
      ],
      "metadata": {
        "colab": {
          "base_uri": "https://localhost:8080/"
        },
        "id": "iDJ_oUe5Q-Th",
        "outputId": "2e885244-099e-403d-c3b4-b82905790c19"
      },
      "execution_count": 5,
      "outputs": [
        {
          "output_type": "stream",
          "name": "stdout",
          "text": [
            "HostBuffer([6.0, 22.0, 38.0, 54.0, 70.0, 86.0, 102.0, 118.0])\n",
            "\n"
          ]
        }
      ]
    },
    {
      "cell_type": "markdown",
      "source": [
        "The next cell is the calculation of the Mandelbrot set, again running on GPU in Colab:"
      ],
      "metadata": {
        "id": "D7OCatB4Sa-N"
      }
    },
    {
      "cell_type": "code",
      "source": [
        "%%mojo\n"
      ],
      "metadata": {
        "colab": {
          "base_uri": "https://localhost:8080/"
        },
        "id": "w2xH3ywBkFE1",
        "outputId": "8335ee44-9478-486d-b0b7-48dfe778ff9d"
      },
      "execution_count": 4,
      "outputs": [
        {
          "output_type": "stream",
          "name": "stderr",
          "text": [
            "UsageError: %%mojo is a cell magic, but the cell body is empty.\n"
          ]
        }
      ]
    }
  ]
}